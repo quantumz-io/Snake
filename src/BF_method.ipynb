{
 "cells": [
  {
   "cell_type": "code",
   "execution_count": 115,
   "id": "7a2d8da5",
   "metadata": {},
   "outputs": [],
   "source": [
    "using PyCall\n",
    "nx = pyimport(\"networkx\")\n",
    "using Parameters"
   ]
  },
  {
   "cell_type": "code",
   "execution_count": 94,
   "id": "897f5c3a",
   "metadata": {},
   "outputs": [
    {
     "ename": "LoadError",
     "evalue": "ArgumentError: Package CUDA not found in current path:\n- Run `import Pkg; Pkg.add(\"CUDA\")` to install the CUDA package.\n",
     "output_type": "error",
     "traceback": [
      "ArgumentError: Package CUDA not found in current path:\n- Run `import Pkg; Pkg.add(\"CUDA\")` to install the CUDA package.\n",
      "",
      "Stacktrace:",
      " [1] require(into::Module, mod::Symbol)",
      "   @ Base ./loading.jl:967",
      " [2] eval",
      "   @ ./boot.jl:373 [inlined]",
      " [3] include_string(mapexpr::typeof(REPL.softscope), mod::Module, code::String, filename::String)",
      "   @ Base ./loading.jl:1196"
     ]
    }
   ],
   "source": [
    "using LinearAlgebra, MKL\n",
    "using CUDA\n",
    "using Bits\n",
    "using DocStringExtensions"
   ]
  },
  {
   "cell_type": "code",
   "execution_count": 95,
   "id": "b3acc1c1",
   "metadata": {},
   "outputs": [],
   "source": [
    "struct Spectrum{T <: Real}\n",
    "    energies::Array{T}\n",
    "    states::Array{Int, 2}\n",
    "end"
   ]
  },
  {
   "cell_type": "code",
   "execution_count": 96,
   "id": "7b6161b6",
   "metadata": {},
   "outputs": [
    {
     "data": {
      "text/plain": [
       "_energy_kernel (generic function with 1 method)"
      ]
     },
     "execution_count": 96,
     "metadata": {},
     "output_type": "execute_result"
    }
   ],
   "source": [
    "function _energy_kernel(J, energies, σ)\n",
    "    T = eltype(J)\n",
    "    idx = (blockIdx().x - 1) * blockDim().x + threadIdx().x\n",
    "    stride = gridDim().x * blockDim().x\n",
    "\n",
    "    L = size(σ, 1)\n",
    "    for j ∈ idx:stride:length(energies)\n",
    "        for i=1:L if tstbit(j, i) @inbounds σ[i, j] = 1 end end\n",
    "        en = zero(T)\n",
    "        for k=1:L\n",
    "            @inbounds en += J[k, k] * σ[k, j]\n",
    "            for l=k+1:L @inbounds en += σ[k, j] * J[k, l] * σ[l, j] end\n",
    "        end\n",
    "        energies[j] = en\n",
    "    end\n",
    "    return\n",
    "end"
   ]
  },
  {
   "cell_type": "code",
   "execution_count": 97,
   "id": "253ec006",
   "metadata": {},
   "outputs": [
    {
     "data": {
      "text/plain": [
       "exhaustive_search"
      ]
     },
     "execution_count": 97,
     "metadata": {},
     "output_type": "execute_result"
    }
   ],
   "source": [
    "\"\"\"\n",
    "$(TYPEDSIGNATURES)\n",
    "Computes the low energy spectrum for the Ising model.\n",
    "\"\"\"\n",
    "function exhaustive_search(J::Array{<:Real, 2}; num_states::Int=1)\n",
    "    T = eltype(J)\n",
    "    L = size(J, 1)\n",
    "    N = 2 ^ L\n",
    "\n",
    "    J_d = CUDA.CuArray(J)\n",
    "    energies = CUDA.zeros(T, N)\n",
    "    σ = CUDA.fill(Int32(-1), L, N)\n",
    "\n",
    "    th = 2 ^ 10\n",
    "    bl = cld(N, th)\n",
    "\n",
    "    @cuda threads=th blocks=bl _energy_kernel(J_d, energies, σ)\n",
    "\n",
    "    perm = sortperm(energies)[1:num_states]\n",
    "\n",
    "    Spectrum{T}(Array(energies[perm]), Array(σ[:, perm]))\n",
    "end"
   ]
  },
  {
   "cell_type": "code",
   "execution_count": 98,
   "id": "8752460e",
   "metadata": {},
   "outputs": [
    {
     "data": {
      "text/plain": [
       "\"RIGHT\""
      ]
     },
     "execution_count": 98,
     "metadata": {},
     "output_type": "execute_result"
    }
   ],
   "source": [
    "# Window size\n",
    "window_x = 100\n",
    "window_y = 100\n",
    "\n",
    "# defining snake default position\n",
    "snake_position = [1, 1]\n",
    " \n",
    "# defining first 4 blocks of snake body\n",
    "snake_body = [[1, 1]]\n",
    "\n",
    "# fruit position\n",
    "fruit_position = [rand(2:(window_x//50)),\n",
    "                  rand(2:(window_y//50))]\n",
    "fruit_spawn = true\n",
    "\n",
    "# setting default snake direction towards\n",
    "# right\n",
    "direction = \"RIGHT\"\n",
    "change_to = direction"
   ]
  },
  {
   "cell_type": "code",
   "execution_count": 116,
   "id": "e273f720",
   "metadata": {},
   "outputs": [
    {
     "data": {
      "text/plain": [
       "solve (generic function with 1 method)"
      ]
     },
     "execution_count": 116,
     "metadata": {},
     "output_type": "execute_result"
    }
   ],
   "source": [
    "function solve()\n",
    "    global snake_body, snake_position, fruit_position, fruit_spawn, direction, window_x, window_y\n",
    "    height = window_y//50\n",
    "    width  = window_x//50\n",
    "    ## In the hierachy of step from A* search: \n",
    "        #make the graph \n",
    "        #input to solving_HCP \n",
    "        #return the result\n",
    "    \n",
    "    l_direct = [\"UP\", \"DOWN\", \"LEFT\", \"RIGHT\"]\n",
    "    stack = []\n",
    "    for d in l_direct\n",
    "        new_pos = false \n",
    "        if d == \"UP\" && direction != \"DOWN\"\n",
    "            new_pos = [snake_position[1], snake_position[2]-1]\n",
    "        end\n",
    "        if d == \"DOWN\" && direction!= \"UP\"\n",
    "            new_pos = [snake_position[1], snake_position[2]+1]\n",
    "        end\n",
    "        if d == \"LEFT\" && direction != \"RIGHT\"\n",
    "            new_pos = [snake_position[1]-1, snake_position[2]]\n",
    "        end\n",
    "        if d == \"RIGHT\" && direction != \"LEFT\"\n",
    "            new_pos = [snake_position[1]+1, snake_position[2]]\n",
    "        end\n",
    "        if new_pos != false && 1 <= new_pos[1] <= width && 1 <= new_pos[2] <= height && new_pos ∉ snake_body\n",
    "            insert!(stack, 1, [d, \n",
    "                        abs(fruit_position[1] - new_pos[1]) + \n",
    "                        abs(fruit_position[2] - new_pos[2]), new_pos])\n",
    "        end\n",
    "    end\n",
    "    stack = sort!(stack, by = x -> x[2])\n",
    "    #println(stack)\n",
    "    #println(fruit_position)\n",
    "    #Creating new graph for each direction \n",
    "    for (d,s, new_pos) in stack\n",
    "        G = nx.Graph()\n",
    "        G.add_nodes_from(1:width*height)\n",
    "        # Make a fully connected graph out of the board \n",
    "        for i=1:width-1 \n",
    "            for j=1:height-1 \n",
    "                G.add_edge(i+j*width, i+1+j*width)\n",
    "                G.add_edge(i+j*width, i+(j+1)*width)\n",
    "            end\n",
    "        end\n",
    "        \n",
    "        for j=1:height-1 \n",
    "            G.add_edge(width + j*width, width + (j+1)*width)\n",
    "        end\n",
    "        \n",
    "        for i=1:width - 1\n",
    "            G.add_edge(i + height*width, i + 1 + height*width)\n",
    "        end\n",
    "        \n",
    "\n",
    "        #Removing edge conneting snake with neighbor squares. \n",
    "        for (i,pos) in enumerate(snake_body) \n",
    "            if 1<i<length(snake_body) \n",
    "                neighbors = [[pos[1]+1, pos[2]], [pos[1]-1, pos[2]], [pos[1], pos[2]+1], [pos[1], pos[2]-1]]\n",
    "                for ne in neighbors\n",
    "                    if ne!=snake_body[i+1] && ne!=snake_body[i-1] && 1 <= ne[1] <= width && 1 <= ne[2] <= height \n",
    "                        try\n",
    "                            G.remove_edge(pos[1] + pos[2]*width, ne[1] + ne[2]*width)\n",
    "                        catch e \n",
    "                        end\n",
    "                    end\n",
    "                end\n",
    "            end\n",
    "        end\n",
    "        \n",
    "\n",
    "        #Modifying the graph according to the new direction \n",
    "        neighbors = [[snake_position[1]+1, snake_position[2]], [snake_position[1]-1, snake_position[2]], \n",
    "                        [snake_position[1], snake_position[2]+1], [snake_position[1], snake_position[2]-1]]\n",
    "        for ne in neighbors \n",
    "            if length(snake_body) > 1 \n",
    "                if ne ∉ snake_body && ne != new_pos && 1 <= ne[1] <= width && 1 <= ne[2] <= height\n",
    "                    G.remove_edge(snake_position[1] + snake_position[2]*width, ne[1] + ne[2]*width)\n",
    "                end\n",
    "            end\n",
    "        end\n",
    "\n",
    "        ising_matrix, orderDict, size, Q = generate_qubo(G)\n",
    "        res = exhaustive_search(ising_matrix)\n",
    "        @unpack energy, state = res\n",
    "        ans = [0 for i=1:size]\n",
    "        for (i,s) in enumerate(state)\n",
    "            if s == 1\n",
    "                ans[i] = s\n",
    "            end\n",
    "        end\n",
    "        \n",
    "        if check(ans, Q, G) == false \n",
    "            continue\n",
    "        end\n",
    "        \n",
    "        path_pos = []\n",
    "        for k in generate_path(ans, orderDict) \n",
    "            append!(path_pos, [k%width*50 + 25, k//width*50 + 25])\n",
    "        end\n",
    "\n",
    "        new_game(d)\n",
    "        return path_pos\n",
    "    end           \n",
    "end"
   ]
  },
  {
   "cell_type": "code",
   "execution_count": 118,
   "id": "c65d06f8",
   "metadata": {},
   "outputs": [
    {
     "data": {
      "text/plain": [
       "generate_qubo (generic function with 1 method)"
      ]
     },
     "execution_count": 118,
     "metadata": {},
     "output_type": "execute_result"
    }
   ],
   "source": [
    "function generate_qubo(G)\n",
    "    n = G.order()\n",
    "    varsDict = Dict()\n",
    "    orderDict = Dict()\n",
    "    index = 1\n",
    "    for i=1:n\n",
    "        for j=1:n \n",
    "            varsDict[(i,j)] = index \n",
    "            orderDict[index] = (i,j)\n",
    "            index += 1\n",
    "        end\n",
    "    end\n",
    "    # initialize Q\n",
    "    Q = Dict()\n",
    "    for i=1:n*n\n",
    "        for j=1:n*n \n",
    "            Q[i,j] = 0\n",
    "        end\n",
    "    end\n",
    "    # p_1\n",
    "    for i=1:n\n",
    "        for iprime=1:n\n",
    "            index = varsDict[(i,iprime)]\n",
    "            Q[index,index] -= 2\n",
    "        end\n",
    "        for iprime1=1:n\n",
    "            for iprime2=1:n\n",
    "                index1 = varsDict[(i,iprime1)]\n",
    "                index2 = varsDict[(i,iprime2)]\n",
    "                Q[index1 , index2] += 1\n",
    "            end\n",
    "        end\n",
    "    end\n",
    "    # p_2\n",
    "    for iprime =1:n \n",
    "        for i =1:n\n",
    "            index = varsDict[(i,iprime)] \n",
    "            Q[index,index] -= 2\n",
    "        end\n",
    "        for i1 = 1:n\n",
    "            for i2 = 1:n\n",
    "                index1 = varsDict[(i1,iprime)]\n",
    "                index2 = varsDict[(i2,iprime)]\n",
    "                Q[index1 , index2] += 1\n",
    "            end\n",
    "        end\n",
    "    end\n",
    "    \n",
    "    # h\n",
    "    for i_1 = 1:n\n",
    "        for i_2 = 1:n\n",
    "            if (i_2 ∉ G.neighbors(i_1)) && (i_1 != i_2)\n",
    "                for j = 1:n-1\n",
    "                    index_1 = varsDict[i_1,j]\n",
    "                    index_2 = varsDict[i_2,j+1]\n",
    "                    Q[index_1, index_2] += 1\n",
    "                end\n",
    "                index_1 = varsDict[i_1, n]\n",
    "                index_2 = varsDict[i_2, 1]\n",
    "                Q[index_1 ,index_2] += 1\n",
    "            end\n",
    "        end\n",
    "    end\n",
    "    \n",
    "    # Making Q uppertriangular for i in range(n*n):\n",
    "    for i = 1:n*n\n",
    "        for j = 1:n*n\n",
    "            if (i > j) && (Q[i,j]!=0)\n",
    "                Q[j,i] += Q[i,j] \n",
    "                Q[i,j] = 0\n",
    "            end\n",
    "        end\n",
    "    end\n",
    "    J = Array{Float64}(undef,n*n, n*n)\n",
    "    for i=1:n*n\n",
    "        for j = i+1:n*n\n",
    "            J[i,j] = 1/4*(Q[i,j] + Q[j,i])\n",
    "        end\n",
    "        for j = 1:i-1\n",
    "            J[i,j] = 0.0\n",
    "        end\n",
    "        J[i,i] = 1/4*sum(Q[i,j] + Q[j,i] for j=1:n*n)\n",
    "        \n",
    "    end\n",
    "    print(J)\n",
    "    return J, orderDict, n*n, Q\n",
    "end"
   ]
  },
  {
   "cell_type": "code",
   "execution_count": 108,
   "id": "e13bc197",
   "metadata": {},
   "outputs": [
    {
     "data": {
      "text/plain": [
       "2×3 Matrix{Float64}:\n",
       " 1.42854e248  1.78717e161  8.09263e175\n",
       " 1.1146e171   3.07613e203  6.76955e-43"
      ]
     },
     "execution_count": 108,
     "metadata": {},
     "output_type": "execute_result"
    }
   ],
   "source": [
    "J = Array{Float64}(undef, 2,3)"
   ]
  },
  {
   "cell_type": "code",
   "execution_count": 102,
   "id": "044b215f",
   "metadata": {},
   "outputs": [
    {
     "data": {
      "text/plain": [
       "generate_path (generic function with 1 method)"
      ]
     },
     "execution_count": 102,
     "metadata": {},
     "output_type": "execute_result"
    }
   ],
   "source": [
    "function generate_path(ans, orderDict)\n",
    "    res = []\n",
    "    for i in ans\n",
    "        if ans[i] == 1 \n",
    "            append!(res, orderDict[int(i)])\n",
    "        end\n",
    "    end\n",
    "    res = sort!(res, by = x -> x[2])\n",
    "    path = [i for (i,j) in res]\n",
    "    return path\n",
    "end"
   ]
  },
  {
   "cell_type": "code",
   "execution_count": 103,
   "id": "95725b79",
   "metadata": {},
   "outputs": [
    {
     "data": {
      "text/plain": [
       "check (generic function with 1 method)"
      ]
     },
     "execution_count": 103,
     "metadata": {},
     "output_type": "execute_result"
    }
   ],
   "source": [
    "function check(ans, Q, G) \n",
    "    E = 0 \n",
    "    for (i,j) in Q\n",
    "        E += Q[i,j]*ans[string(i)]*ans[string(j)]\n",
    "        #E += Q[i,j]*ans[i]*ans[j]\n",
    "    end\n",
    "    if E != -2*length(G.nodes)\n",
    "        return false\n",
    "    end\n",
    "    return true\n",
    "end"
   ]
  },
  {
   "cell_type": "code",
   "execution_count": 104,
   "id": "650ea1a7",
   "metadata": {},
   "outputs": [
    {
     "data": {
      "text/plain": [
       "new_game (generic function with 1 method)"
      ]
     },
     "execution_count": 104,
     "metadata": {},
     "output_type": "execute_result"
    }
   ],
   "source": [
    "function new_game(change_to)\n",
    "    global snake_body, snake_position, fruit_position, fruit_spawn, direction\n",
    "\n",
    "    direction = change_to\n",
    " \n",
    "    # Moving the snake\n",
    "    if direction == \"UP\"\n",
    "        snake_position[2] -= 1\n",
    "    elseif direction == \"DOWN\"\n",
    "        snake_position[2] += 1\n",
    "    elseif direction == \"LEFT\"\n",
    "        snake_position[1] -= 1\n",
    "    else\n",
    "        snake_position[1] += 1\n",
    "    end\n",
    "\n",
    "    # Snake body growing mechanism\n",
    "    # if fruits and snakes collide then the snake's length will be incremented by one\n",
    "    insert!(snake_body, 1, snake_position)\n",
    "    if snake_position[1] == fruit_position[1] && snake_position[2] == fruit_position[2]\n",
    "        fruit_spawn = false\n",
    "    else\n",
    "        pop!(snake_body)\n",
    "    end\n",
    "         \n",
    "    if not fruit_spawn\n",
    "        choices = []\n",
    "        for i=1:window_x//50 \n",
    "            for j=1:window_y//50\n",
    "                if [i,j] not in snake_body \n",
    "                    append!(choice, [i,j])\n",
    "                end\n",
    "            end\n",
    "        fruit_position = rand(choices)\n",
    "        end\n",
    "         \n",
    "    fruit_spawn = true\n",
    "    end\n",
    "end\n"
   ]
  },
  {
   "cell_type": "code",
   "execution_count": 105,
   "id": "308faaa2",
   "metadata": {},
   "outputs": [
    {
     "ename": "LoadError",
     "evalue": "InexactError: Int64(0.5)",
     "output_type": "error",
     "traceback": [
      "InexactError: Int64(0.5)",
      "",
      "Stacktrace:",
      " [1] Int64",
      "   @ ./float.jl:812 [inlined]",
      " [2] Integer",
      "   @ ./boot.jl:796 [inlined]",
      " [3] convert",
      "   @ ./number.jl:7 [inlined]",
      " [4] setindex!(::Matrix{Integer}, ::Float64, ::Int64, ::Int64)",
      "   @ Base ./array.jl:905",
      " [5] generate_qubo(G::PyObject)",
      "   @ Main ./In[100]:77",
      " [6] solve()",
      "   @ Main ./In[70]:83",
      " [7] top-level scope",
      "   @ ./In[105]:2",
      " [8] eval",
      "   @ ./boot.jl:373 [inlined]",
      " [9] include_string(mapexpr::typeof(REPL.softscope), mod::Module, code::String, filename::String)",
      "   @ Base ./loading.jl:1196"
     ]
    }
   ],
   "source": [
    "while true\n",
    "    path = solve()\n",
    "    if length(snake_body) == window_x//50 * window_y//50 - 1\n",
    "        #If the snake and the fruit fill the entire board then halt the game  \n",
    "        print(\"Victory\")\n",
    "        break\n",
    "    end\n",
    "end"
   ]
  },
  {
   "cell_type": "code",
   "execution_count": 119,
   "id": "c4235137",
   "metadata": {},
   "outputs": [
    {
     "name": "stdout",
     "output_type": "stream",
     "text": [
      "[6.5 0.5 0.5 0.5 0.5 0.5 0.5 0.25 0.0 0.0 0.0 0.25 0.5 0.25 0.0 0.0 0.0 0.25 0.5 0.25 0.0 0.0 0.0 0.25 0.5 0.25 0.0 0.0 0.0 0.25 0.5 0.25 0.0 0.0 0.0 0.25; 0.0 6.5 0.5 0.5 0.5 0.5 0.25 0.5 0.25 0.0 0.0 0.0 0.25 0.5 0.25 0.0 0.0 0.0 0.25 0.5 0.25 0.0 0.0 0.0 0.25 0.5 0.25 0.0 0.0 0.0 0.25 0.5 0.25 0.0 0.0 0.0; 0.0 0.0 6.5 0.5 0.5 0.5 0.0 0.25 0.5 0.25 0.0 0.0 0.0 0.25 0.5 0.25 0.0 0.0 0.0 0.25 0.5 0.25 0.0 0.0 0.0 0.25 0.5 0.25 0.0 0.0 0.0 0.25 0.5 0.25 0.0 0.0; 0.0 0.0 0.0 6.5 0.5 0.5 0.0 0.0 0.25 0.5 0.25 0.0 0.0 0.0 0.25 0.5 0.25 0.0 0.0 0.0 0.25 0.5 0.25 0.0 0.0 0.0 0.25 0.5 0.25 0.0 0.0 0.0 0.25 0.5 0.25 0.0; 0.0 0.0 0.0 0.0 6.5 0.5 0.0 0.0 0.0 0.25 0.5 0.25 0.0 0.0 0.0 0.25 0.5 0.25 0.0 0.0 0.0 0.25 0.5 0.25 0.0 0.0 0.0 0.25 0.5 0.25 0.0 0.0 0.0 0.25 0.5 0.25; 0.0 0.0 0.0 0.0 0.0 6.5 0.25 0.0 0.0 0.0 0.25 0.5 0.25 0.0 0.0 0.0 0.25 0.5 0.25 0.0 0.0 0.0 0.25 0.5 0.25 0.0 0.0 0.0 0.25 0.5 0.25 0.0 0.0 0.0 0.25 0.5; 0.0 0.0 0.0 0.0 0.0 0.0 6.5 0.5 0.5 0.5 0.5 0.5 0.5 0.25 0.0 0.0 0.0 0.25 0.5 0.25 0.0 0.0 0.0 0.25 0.5 0.25 0.0 0.0 0.0 0.25 0.5 0.25 0.0 0.0 0.0 0.25; 0.0 0.0 0.0 0.0 0.0 0.0 0.0 6.5 0.5 0.5 0.5 0.5 0.25 0.5 0.25 0.0 0.0 0.0 0.25 0.5 0.25 0.0 0.0 0.0 0.25 0.5 0.25 0.0 0.0 0.0 0.25 0.5 0.25 0.0 0.0 0.0; 0.0 0.0 0.0 0.0 0.0 0.0 0.0 0.0 6.5 0.5 0.5 0.5 0.0 0.25 0.5 0.25 0.0 0.0 0.0 0.25 0.5 0.25 0.0 0.0 0.0 0.25 0.5 0.25 0.0 0.0 0.0 0.25 0.5 0.25 0.0 0.0; 0.0 0.0 0.0 0.0 0.0 0.0 0.0 0.0 0.0 6.5 0.5 0.5 0.0 0.0 0.25 0.5 0.25 0.0 0.0 0.0 0.25 0.5 0.25 0.0 0.0 0.0 0.25 0.5 0.25 0.0 0.0 0.0 0.25 0.5 0.25 0.0; 0.0 0.0 0.0 0.0 0.0 0.0 0.0 0.0 0.0 0.0 6.5 0.5 0.0 0.0 0.0 0.25 0.5 0.25 0.0 0.0 0.0 0.25 0.5 0.25 0.0 0.0 0.0 0.25 0.5 0.25 0.0 0.0 0.0 0.25 0.5 0.25; 0.0 0.0 0.0 0.0 0.0 0.0 0.0 0.0 0.0 0.0 0.0 6.5 0.25 0.0 0.0 0.0 0.25 0.5 0.25 0.0 0.0 0.0 0.25 0.5 0.25 0.0 0.0 0.0 0.25 0.5 0.25 0.0 0.0 0.0 0.25 0.5; 0.0 0.0 0.0 0.0 0.0 0.0 0.0 0.0 0.0 0.0 0.0 0.0 5.5 0.5 0.5 0.5 0.5 0.5 0.5 0.0 0.0 0.0 0.0 0.0 0.5 0.0 0.0 0.0 0.0 0.0 0.5 0.25 0.0 0.0 0.0 0.25; 0.0 0.0 0.0 0.0 0.0 0.0 0.0 0.0 0.0 0.0 0.0 0.0 0.0 5.5 0.5 0.5 0.5 0.5 0.0 0.5 0.0 0.0 0.0 0.0 0.0 0.5 0.0 0.0 0.0 0.0 0.25 0.5 0.25 0.0 0.0 0.0; 0.0 0.0 0.0 0.0 0.0 0.0 0.0 0.0 0.0 0.0 0.0 0.0 0.0 0.0 5.5 0.5 0.5 0.5 0.0 0.0 0.5 0.0 0.0 0.0 0.0 0.0 0.5 0.0 0.0 0.0 0.0 0.25 0.5 0.25 0.0 0.0; 0.0 0.0 0.0 0.0 0.0 0.0 0.0 0.0 0.0 0.0 0.0 0.0 0.0 0.0 0.0 5.5 0.5 0.5 0.0 0.0 0.0 0.5 0.0 0.0 0.0 0.0 0.0 0.5 0.0 0.0 0.0 0.0 0.25 0.5 0.25 0.0; 0.0 0.0 0.0 0.0 0.0 0.0 0.0 0.0 0.0 0.0 0.0 0.0 0.0 0.0 0.0 0.0 5.5 0.5 0.0 0.0 0.0 0.0 0.5 0.0 0.0 0.0 0.0 0.0 0.5 0.0 0.0 0.0 0.0 0.25 0.5 0.25; 0.0 0.0 0.0 0.0 0.0 0.0 0.0 0.0 0.0 0.0 0.0 0.0 0.0 0.0 0.0 0.0 0.0 5.5 0.0 0.0 0.0 0.0 0.0 0.5 0.0 0.0 0.0 0.0 0.0 0.5 0.25 0.0 0.0 0.0 0.25 0.5; 0.0 0.0 0.0 0.0 0.0 0.0 0.0 0.0 0.0 0.0 0.0 0.0 0.0 0.0 0.0 0.0 0.0 0.0 5.5 0.5 0.5 0.5 0.5 0.5 0.5 0.25 0.0 0.0 0.0 0.25 0.5 0.0 0.0 0.0 0.0 0.0; 0.0 0.0 0.0 0.0 0.0 0.0 0.0 0.0 0.0 0.0 0.0 0.0 0.0 0.0 0.0 0.0 0.0 0.0 0.0 5.5 0.5 0.5 0.5 0.5 0.25 0.5 0.25 0.0 0.0 0.0 0.0 0.5 0.0 0.0 0.0 0.0; 0.0 0.0 0.0 0.0 0.0 0.0 0.0 0.0 0.0 0.0 0.0 0.0 0.0 0.0 0.0 0.0 0.0 0.0 0.0 0.0 5.5 0.5 0.5 0.5 0.0 0.25 0.5 0.25 0.0 0.0 0.0 0.0 0.5 0.0 0.0 0.0; 0.0 0.0 0.0 0.0 0.0 0.0 0.0 0.0 0.0 0.0 0.0 0.0 0.0 0.0 0.0 0.0 0.0 0.0 0.0 0.0 0.0 5.5 0.5 0.5 0.0 0.0 0.25 0.5 0.25 0.0 0.0 0.0 0.0 0.5 0.0 0.0; 0.0 0.0 0.0 0.0 0.0 0.0 0.0 0.0 0.0 0.0 0.0 0.0 0.0 0.0 0.0 0.0 0.0 0.0 0.0 0.0 0.0 0.0 5.5 0.5 0.0 0.0 0.0 0.25 0.5 0.25 0.0 0.0 0.0 0.0 0.5 0.0; 0.0 0.0 0.0 0.0 0.0 0.0 0.0 0.0 0.0 0.0 0.0 0.0 0.0 0.0 0.0 0.0 0.0 0.0 0.0 0.0 0.0 0.0 0.0 5.5 0.25 0.0 0.0 0.0 0.25 0.5 0.0 0.0 0.0 0.0 0.0 0.5; 0.0 0.0 0.0 0.0 0.0 0.0 0.0 0.0 0.0 0.0 0.0 0.0 0.0 0.0 0.0 0.0 0.0 0.0 0.0 0.0 0.0 0.0 0.0 0.0 5.5 0.5 0.5 0.5 0.5 0.5 0.5 0.0 0.0 0.0 0.0 0.0; 0.0 0.0 0.0 0.0 0.0 0.0 0.0 0.0 0.0 0.0 0.0 0.0 0.0 0.0 0.0 0.0 0.0 0.0 0.0 0.0 0.0 0.0 0.0 0.0 0.0 5.5 0.5 0.5 0.5 0.5 0.0 0.5 0.0 0.0 0.0 0.0; 0.0 0.0 0.0 0.0 0.0 0.0 0.0 0.0 0.0 0.0 0.0 0.0 0.0 0.0 0.0 0.0 0.0 0.0 0.0 0.0 0.0 0.0 0.0 0.0 0.0 0.0 5.5 0.5 0.5 0.5 0.0 0.0 0.5 0.0 0.0 0.0; 0.0 0.0 0.0 0.0 0.0 0.0 0.0 0.0 0.0 0.0 0.0 0.0 0.0 0.0 0.0 0.0 0.0 0.0 0.0 0.0 0.0 0.0 0.0 0.0 0.0 0.0 0.0 5.5 0.5 0.5 0.0 0.0 0.0 0.5 0.0 0.0; 0.0 0.0 0.0 0.0 0.0 0.0 0.0 0.0 0.0 0.0 0.0 0.0 0.0 0.0 0.0 0.0 0.0 0.0 0.0 0.0 0.0 0.0 0.0 0.0 0.0 0.0 0.0 0.0 5.5 0.5 0.0 0.0 0.0 0.0 0.5 0.0; 0.0 0.0 0.0 0.0 0.0 0.0 0.0 0.0 0.0 0.0 0.0 0.0 0.0 0.0 0.0 0.0 0.0 0.0 0.0 0.0 0.0 0.0 0.0 0.0 0.0 0.0 0.0 0.0 0.0 5.5 0.0 0.0 0.0 0.0 0.0 0.5; 0.0 0.0 0.0 0.0 0.0 0.0 0.0 0.0 0.0 0.0 0.0 0.0 0.0 0.0 0.0 0.0 0.0 0.0 0.0 0.0 0.0 0.0 0.0 0.0 0.0 0.0 0.0 0.0 0.0 0.0 5.5 0.5 0.5 0.5 0.5 0.5; 0.0 0.0 0.0 0.0 0.0 0.0 0.0 0.0 0.0 0.0 0.0 0.0 0.0 0.0 0.0 0.0 0.0 0.0 0.0 0.0 0.0 0.0 0.0 0.0 0.0 0.0 0.0 0.0 0.0 0.0 0.0 5.5 0.5 0.5 0.5 0.5; 0.0 0.0 0.0 0.0 0.0 0.0 0.0 0.0 0.0 0.0 0.0 0.0 0.0 0.0 0.0 0.0 0.0 0.0 0.0 0.0 0.0 0.0 0.0 0.0 0.0 0.0 0.0 0.0 0.0 0.0 0.0 0.0 5.5 0.5 0.5 0.5; 0.0 0.0 0.0 0.0 0.0 0.0 0.0 0.0 0.0 0.0 0.0 0.0 0.0 0.0 0.0 0.0 0.0 0.0 0.0 0.0 0.0 0.0 0.0 0.0 0.0 0.0 0.0 0.0 0.0 0.0 0.0 0.0 0.0 5.5 0.5 0.5; 0.0 0.0 0.0 0.0 0.0 0.0 0.0 0.0 0.0 0.0 0.0 0.0 0.0 0.0 0.0 0.0 0.0 0.0 0.0 0.0 0.0 0.0 0.0 0.0 0.0 0.0 0.0 0.0 0.0 0.0 0.0 0.0 0.0 0.0 5.5 0.5; 0.0 0.0 0.0 0.0 0.0 0.0 0.0 0.0 0.0 0.0 0.0 0.0 0.0 0.0 0.0 0.0 0.0 0.0 0.0 0.0 0.0 0.0 0.0 0.0 0.0 0.0 0.0 0.0 0.0 0.0 0.0 0.0 0.0 0.0 0.0 5.5]"
     ]
    },
    {
     "ename": "LoadError",
     "evalue": "Could not find the CUDA driver library. Please make sure you have installed the NVIDIA driver for your GPU.\nIf you're sure it's installed, look for `libcuda.so` in your system and make sure it's discoverable by the linker.\nTypically, that involves an entry in '/etc/ld.so.conf', or setting LD_LIBRARY_PATH.",
     "output_type": "error",
     "traceback": [
      "Could not find the CUDA driver library. Please make sure you have installed the NVIDIA driver for your GPU.\nIf you're sure it's installed, look for `libcuda.so` in your system and make sure it's discoverable by the linker.\nTypically, that involves an entry in '/etc/ld.so.conf', or setting LD_LIBRARY_PATH.",
      "",
      "Stacktrace:",
      "  [1] libcuda()",
      "    @ CUDA ~/.julia/packages/CUDA/DfvRa/lib/cudadrv/CUDAdrv.jl:153",
      "  [2] macro expansion",
      "    @ ~/.julia/packages/CUDA/DfvRa/lib/cudadrv/libcuda.jl:29 [inlined]",
      "  [3] macro expansion",
      "    @ ~/.julia/packages/CUDA/DfvRa/lib/cudadrv/error.jl:95 [inlined]",
      "  [4] cuDeviceGet",
      "    @ ~/.julia/packages/CUDA/DfvRa/lib/utils/call.jl:26 [inlined]",
      "  [5] CuDevice",
      "    @ ~/.julia/packages/CUDA/DfvRa/lib/cudadrv/devices.jl:17 [inlined]",
      "  [6] TaskLocalState",
      "    @ ~/.julia/packages/CUDA/DfvRa/lib/cudadrv/state.jl:50 [inlined]",
      "  [7] task_local_state!()",
      "    @ CUDA ~/.julia/packages/CUDA/DfvRa/lib/cudadrv/state.jl:73",
      "  [8] active_state",
      "    @ ~/.julia/packages/CUDA/DfvRa/lib/cudadrv/state.jl:106 [inlined]",
      "  [9] #_alloc#170",
      "    @ ~/.julia/packages/CUDA/DfvRa/src/pool.jl:309 [inlined]",
      " [10] #alloc#169",
      "    @ ~/.julia/packages/CUDA/DfvRa/src/pool.jl:299 [inlined]",
      " [11] alloc",
      "    @ ~/.julia/packages/CUDA/DfvRa/src/pool.jl:295 [inlined]",
      " [12] CuArray{Float64, 2, CUDA.Mem.DeviceBuffer}(#unused#::UndefInitializer, dims::Tuple{Int64, Int64})",
      "    @ CUDA ~/.julia/packages/CUDA/DfvRa/src/array.jl:42",
      " [13] CuArray",
      "    @ ~/.julia/packages/CUDA/DfvRa/src/array.jl:291 [inlined]",
      " [14] CuArray",
      "    @ ~/.julia/packages/CUDA/DfvRa/src/array.jl:296 [inlined]",
      " [15] CuArray",
      "    @ ~/.julia/packages/CUDA/DfvRa/src/array.jl:305 [inlined]",
      " [16] exhaustive_search(J::Matrix{Float64}; num_states::Int64)",
      "    @ Main ./In[97]:10",
      " [17] exhaustive_search",
      "    @ ./In[97]:6 [inlined]",
      " [18] solve()",
      "    @ Main ./In[116]:84",
      " [19] top-level scope",
      "    @ In[119]:1",
      " [20] eval",
      "    @ ./boot.jl:373 [inlined]",
      " [21] include_string(mapexpr::typeof(REPL.softscope), mod::Module, code::String, filename::String)",
      "    @ Base ./loading.jl:1196"
     ]
    }
   ],
   "source": [
    "solve()"
   ]
  },
  {
   "cell_type": "code",
   "execution_count": null,
   "id": "4cfd188a",
   "metadata": {},
   "outputs": [],
   "source": []
  }
 ],
 "metadata": {
  "kernelspec": {
   "display_name": "Julia 1.7.3",
   "language": "julia",
   "name": "julia-1.7"
  },
  "language_info": {
   "file_extension": ".jl",
   "mimetype": "application/julia",
   "name": "julia",
   "version": "1.7.3"
  }
 },
 "nbformat": 4,
 "nbformat_minor": 5
}
